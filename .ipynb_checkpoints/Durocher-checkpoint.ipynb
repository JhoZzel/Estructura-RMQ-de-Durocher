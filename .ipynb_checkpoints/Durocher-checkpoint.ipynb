{
 "cells": [
  {
   "cell_type": "markdown",
   "id": "16f94372-e08f-4c1a-ad84-8169c2da49b9",
   "metadata": {},
   "source": [
    "# **Estructura Durocher RMQ**"
   ]
  },
  {
   "cell_type": "markdown",
   "id": "5e6e77e5-5a49-4282-8d72-0c796558850e",
   "metadata": {},
   "source": [
    "## Definición del Problema RMQ (Range Minimum Query)\n",
    "\n",
    "Dado un arreglo $A[1 \\dots n]$ de $n$ elementos, se busca realizar $q$ consultas $RMQ(i, j)$ que busca devolver el **mínimo valor** en el subarreglo $A[i \\dots j]$, es decir:\n",
    "\n",
    "$$\n",
    "\\text{RMQ}(i, j) = \\min \\{ A[k] \\mid i \\leq k \\leq j \\}\n",
    "$$\n",
    "\n",
    "**Objetivo:** Preprocesar el arreglo $A$ para construir una estructura de datos que permita responder consultas RMQ en el menor tiempo posible, usando un espacio eficiente.\n"
   ]
  },
  {
   "cell_type": "markdown",
   "id": "1c00c530-cde0-49fb-bc5a-0f4e3de6e834",
   "metadata": {},
   "source": [
    "---\n",
    "\n",
    "Basicamente el problema consiste en hallar rápidamente el valor mínimo en un subarreglo dado de un arreglo. Aunque es posible almacenar todas las respuestas posibles usando mucho espacio $O(n^2)$, la meta en este proyecto es lograr una solución que use **espacio lineal** $O(n)$ y permita consultas en **tiempo constante** $O(1)$, es decir se busca una pareja de complejidad espacio-tiempo $<O(n), O(1)>$, para ello usaremos una estructura de dato conocida como *Sparse Table*, que nos permite resolverlo en $<O(NlogN), \\;O(1)>$, pero realizando una serie de modificaciones extras para que la complejidad logre ser lineal para el preprocesamiento. Pero primero veamos como es que funciona un Sparse Table.\n",
    "\n"
   ]
  },
  {
   "cell_type": "markdown",
   "id": "01247249-36bc-462a-9eb7-2b121b367b8b",
   "metadata": {},
   "source": [
    "## Sparse Table "
   ]
  },
  {
   "cell_type": "markdown",
   "id": "bb614d71-046a-4932-88ec-d06f1510f573",
   "metadata": {},
   "source": [
    "El *Sparse Table* es una estructura de datos eficiente para responder consultas de rango sobre un arreglo inmutable, especialmente **consultas idempotentes** como el mínimo, máximo o máximo común divisor.\n",
    "\n",
    "La idea es precomputar los valores mínimos de subarreglos de longitud \\$2^k\\$ para cada posición $i$:\n",
    "\n",
    "> $ST[i][k]$ almacena el mínimo del subarreglo $A[i,..., \\;i + 2^{k} - 1]$.\n",
    "\n",
    "Durante la consulta, se aprovecha la **idempotencia** de la operación mínima:\n",
    "\n",
    "> \\$ RMQ(l, r) = \\min(\\text{ST}\\[l]\\[k], \\text{ ST}\\[r - 2^k + 1]\\[k]) \\$\n",
    "> , donde \\$k = \\lfloor \\log\\_2(r - l + 1) \\rfloor\\$\n",
    "\n",
    "Esto nos permite cubrir cualquier rango usando **dos bloques de tamaño potencia de 2** que se solapan en el rango y dar respuesta en **\\$O(1)\\$**.\n",
    "\n"
   ]
  },
  {
   "cell_type": "markdown",
   "id": "18b6ddf0-7495-4ad5-8206-fbb32c57e860",
   "metadata": {},
   "source": [
    "## Idea de Durocher\n",
    "### Preprocesamiento en O(n)\n",
    "**\"Divison en bloques\"**: \n",
    "\n",
    "Vamos a dividir el array en $B$ bloques tal que cada bloque sea de tamano $k$, por lo que tendriamos que $B = \\lceil \\dfrac{n}{k}\\rceil$. Luego vamos a construir un nuevo array $b$ de tamano $B$, tal que cada elemento sea el minimo de cada bloque.\n",
    "\n",
    "$$\n",
    "b_{i} = \\min \\left\\{ a_j \\mid j \\in [B \\cdot i,..., \\ B \\cdot (i + 1)> \\right\\}\n",
    "$$\n",
    "\n",
    "Sobre este array vamos a construir un Sparse Table, lo que nos daria una complejidad de, $O(B \\; logB)$. Si tomamos un tamano adecuado para que este preprocesamiento sea lineal, podriamos tomar $k = log(n)$, de modo que la complejidad seria.\n",
    "$$\n",
    "O(B\\; log(B)) = O(\\dfrac{n}{k} \\; log(\\dfrac{n}{k})) = O(\\dfrac{n}{k} \\; log(n) - log(k))) \n",
    "= O(\\dfrac{n}{log(n)} \\; (log(n) - log(log(n)))) \n",
    "\\approx O(\\dfrac{n}{\\cancel{log(n)}} \\; \\cancel{log(n)})) \n",
    "= O(n)\n",
    "$$\n",
    "\n",
    "La idea con esto es que cada consulta $[l,\\; r]$ ahora podemos plantearlo sobre en que bloque apunta l y r, y para los bloques completos de intermedios podemos utilizar este ST sobre b en $O(1)$. Sin embargo aun tenemos que manejar como tratar con las queries dentro de un mismo bloque."
   ]
  },
  {
   "cell_type": "markdown",
   "id": "8ee2958f-0663-4d1b-9011-f272df9b4900",
   "metadata": {},
   "source": [
    "**\"Preprocesar cada par [l,r] en un bloque\"**\n",
    "\n",
    "Para esta seccion lo que se buscara hacer es buscar una forma de caracterizar cada secuencia de numeros para cada bloque en algun patron para luego precomputar cada par $(i, j)$ en $O(k^2)$, ese seria el costo para cada patron posible, pero ahora la pregunta es, cuantas en realidad hay, y como es que las podemos caracterizar?.\n",
    "\n",
    "Para responder lo anterior es importante observar, que podemos representar un array segun su orden relativo como un *Cartesian Tree*, para ello basta con ejecutar su algoritmo de construccion basado en un stack que lo lograria hacer en $O(k)$.\n",
    "\n",
    "<img src=\"img/cartesian_tree_array.png\" width=\"400\" />\n"
   ]
  },
  {
   "cell_type": "markdown",
   "id": "4fe5642f-a477-400e-85a1-8dcc34b751e0",
   "metadata": {},
   "source": [
    "```\n",
    "ALGORITMO BuildCartesianTree(A)\n",
    "    stack ← vacía\n",
    "\n",
    "    PARA i DESDE 0 HASTA n-1 HACER\n",
    "        SI stack esta vacía ENTONCES\n",
    "            stack.push(i)\n",
    "        SINO\n",
    "            now ← pila.top()\n",
    "            SI A[i] > A[now] ENTONCES\n",
    "                R[now] ← i\n",
    "                par[i] ← now\n",
    "                stack.push(i)\n",
    "            SINO\n",
    "                last ← -1\n",
    "                MIENTRAS stack no vacía Y A[i] < A[stack.top()] HACER\n",
    "                    last ← stack.pop()\n",
    "                FIN MIENTRAS\n",
    "                SI last ≠ -1 ENTONCES\n",
    "                    SI stack no vacía ENTONCES\n",
    "                        p ← par[last]\n",
    "                        R[p] ← i\n",
    "                        par[i] ← p\n",
    "                    FIN SI\n",
    "                    L[i] ← last\n",
    "                    par[last] ← i\n",
    "                FIN SI\n",
    "                stack.push(i)\n",
    "            FIN SI\n",
    "        FIN SI\n",
    "    FIN PARA\n",
    "\n",
    "    MIENTRAS stack no vacía HACER\n",
    "        stack.pop()\n",
    "    FIN MIENTRAS\n",
    "\n",
    "    root ← índice i donde par[i] = -1\n",
    "\n",
    "FIN ALGORITMO\n",
    "```"
   ]
  },
  {
   "cell_type": "markdown",
   "id": "94427d1f-e048-4a11-95fa-a461b372501e",
   "metadata": {},
   "source": [
    "Notemos que, según el algoritmo anterior, cada elemento es añadido y eliminado del stack una única vez. Por lo tanto, podemos asociar dos momentos para cada $a_i$:\n",
    "\n",
    "* `(` `\"push\"`: Entrada de $a_i$ al stack \n",
    "* `)` `\"pop\"`: Salida de $a_i$ del stack\n",
    "\n",
    "Para el ejemplo anterior, la secuencia resultante es: `()()(()(()())())`. Si prestamos aún más atención, podemos reconocer que estas secuencias corresponden a las conocidas *well-balanced bracket sequences* (secuencias de corchetes correctamente balanceadas). Además, se sabe que la cantidad de secuencias válidas de longitud $2n$ está dada por el $n$-ésimo número de Catalán:\n",
    "\n",
    "$$\n",
    "C_n = \\frac{1}{n+1} \\binom{2n}{n}\n",
    "$$\n",
    "\n",
    "Esto se debe a la forma en que se ejecuta el algoritmo, lo cual garantiza la formación de dichas secuencias. Cada *Cartesian Tree* determina una única secuencia, y a su vez, cada secuencia define un único *Cartesian Tree*, ya que los pasos de `push` y `pop` están explícitamente representados en la secuencia. Por lo tanto, conociendo esta correspondencia, podemos plantear un método para construir el *Cartesian Tree* a partir de una secuencia de bracks balanceada."
   ]
  },
  {
   "cell_type": "markdown",
   "id": "9c28ba8e-037a-4add-a6ba-9994b0197651",
   "metadata": {},
   "source": [
    "Entonces con esto ya podemos responder las preguntas planteadas anteriormente:\n",
    "- **¿Como podemos caracterizar cada secuencia de numeros?** => Usando la codificacion de brackets para su respectivo Cartesian Tree-\n",
    "- **¿Cuantos patrones distintos existen?** => El numero de patrones esta determinado por el numero de catalan, sin embargo esta expresion la podemos aproximar a otra expresion para manejar mejor los terminos de complejidad.\n",
    "\n",
    "$$\n",
    "C_n = \\frac{1}{n+1} \\binom{2n}{n} \\approx \\frac{4^n}{\\sqrt{\\pi} \\, n^{3/2}} \\leq 4^{n}\n",
    "$$\n",
    "\n",
    "Por lo tanto segun la expresion anterior y lo discutido anteriormente, podemos preprocesar cada uno de estos pares para cada patron en una complejidad de $O(4^{k} \\; k^2)$, sin embargo buscamos que esto sea lineal o menos, anteriormente hemos tomado $k = log_2(n)$, para realizar el precomputo del Sparse Table en $O(n)$, sin embargo para este caso no nos servira de mucho ya que:\n",
    "\n",
    "$$\n",
    "O(4^{k}\\; k^2) = O(4^{log(n)} \\; log^2(n)) = O((2^{log(n)})^2 \\; log^2(n)) = O(n^2 \\; log^2(n)) \n",
    "$$"
   ]
  },
  {
   "cell_type": "markdown",
   "id": "7e9fd3c3-f9b5-4605-afb0-bd6873f0691f",
   "metadata": {},
   "source": [
    "Aqui el valor optimo a elegir sera $k = \\dfrac{1}{2}log_{4}(n)$, con esto verficaremos para ambos casos que sea lineal del todo, primero veamos que ocurre si reemplazamos con la expresion anterior:\n",
    "\n",
    "$$\n",
    "O(4^{k}\\; k^2) = O(4^{\\frac{1}{2} log_{4}(n)} \\; log_{4}^{2}(n)) = O(n^{\\frac{1}{2}}\\; log_{4}^{2}(n)) = O(\\sqrt{n} \\; log_{4}^{2}(n)) \\leq O(n)\n",
    "$$\n",
    "\n",
    "Por otro lado fijemonos si la precomputacion aun sigue siendo lineal al tomar este valor $k$\n",
    "$$\n",
    "O(B\\; log_2(B)) = O(\\dfrac{n}{k} \\; log_2\\dfrac{n}{k})\n",
    "= O(\\dfrac{n}{\\frac{1}{2}log_{4}n} \\; log_2(\\dfrac{n}{\\frac{1}{2}log_{4}n})) \n",
    "\\approx O(\\dfrac{n}{\\frac{1}{2}log_{4}n} \\; log_2n) \n",
    "= O(2n \\dfrac{log(4)}{\\cancel{log(n)}} \\dfrac{\\cancel{log(n)}}{log(2)})\n",
    "= O(2n \\; log_2(4))\n",
    "= O(4n)\n",
    "= O(n)\n",
    "$$\n",
    "\n",
    "Por lo tanto el valor $k = \\frac{1}{2}log_4(n)$ es aceptable para nuestro algoritmo, logrando una complejidad lineal en procesamiento."
   ]
  },
  {
   "cell_type": "markdown",
   "id": "bc5d6593-70ed-4ce0-b49d-92849d4fe4d5",
   "metadata": {},
   "source": [
    "### Query en [l,r] en O(1)"
   ]
  },
  {
   "cell_type": "markdown",
   "id": "69e1c952-217d-48ff-b20f-a91f29e5de97",
   "metadata": {},
   "source": [
    "Para cada $l$ y $r$ podemos mapear a que bloque usando una tabla de `id[j]` las cual nos dira a que bloque pertenece de modo que si se encuentran sobre el mismo bloque basta con obtener el patron ya preprocesado y consultar para el par $[l, r]$ en una tabla a la que llamaremos *lookup_table*:\n",
    "- `lookup_table[l][r][mask]`: Indice $j$ en $[0,...\\; k]$ tal que este es la posicion del valor minimo en el rango $[l,r]$ para el patron codificado con $mask$.\n",
    "\n",
    "Sin embargo si los `id[l]` y `id[r]` caen en bloques distintos usaremos nuestro Sparse Table preprocesado sobre el array $b$, en $O(1)$ para los bloques intermedios, `ST.query(id[l] + 1, id[r] - 1)`, y realizar la query `[l', k - 1]`en el bloque de `id[l]` y otra query `[0, r']` en el bloque de `id[r]`. "
   ]
  },
  {
   "cell_type": "markdown",
   "id": "623f789d-b250-45d3-b67b-b128e12b8a67",
   "metadata": {},
   "source": [
    "---\n",
    "\n",
    "Por lo tanto siguiendo estos pasos podremos lograr una complejidad $<O(n), O(1)>$ si manejamos una cuidadosa implementacion."
   ]
  },
  {
   "cell_type": "markdown",
   "id": "9f72ec43-1974-44f6-8286-f3e60a43e3f2",
   "metadata": {},
   "source": [
    "### Implementacion en codigo y desafios encontrados"
   ]
  },
  {
   "cell_type": "markdown",
   "id": "796846b3-8749-48e4-9ea8-66fcc5ff49e3",
   "metadata": {},
   "source": [
    "Importamos todas las librerias necesarias que usaremos, asi como algunas funciones auxiliares que usaremos mas adelante:"
   ]
  },
  {
   "cell_type": "code",
   "execution_count": 9,
   "id": "d291711d-1435-4743-afd3-13922302b3f9",
   "metadata": {},
   "outputs": [],
   "source": [
    "#include <iostream>\n",
    "#include <vector>     \n",
    "#include <algorithm>  \n",
    "#include <climits>     \n",
    "#include <cmath>        \n",
    "#include <stack>      \n",
    "#include <bitset>    \n",
    "#include <cassert>  \n",
    "#include <random>   \n",
    "#include <chrono>    \n",
    "using namespace std;"
   ]
  },
  {
   "cell_type": "code",
   "execution_count": 2,
   "id": "e146c8a3-15cd-4fba-9a2d-21980e6c9b8a",
   "metadata": {},
   "outputs": [],
   "source": [
    "// Semilla para números aleatorios basada en la hora actual del sistema\n",
    "mt19937 rnd(chrono::system_clock::now().time_since_epoch().count());"
   ]
  },
  {
   "cell_type": "code",
   "execution_count": 3,
   "id": "ab15a6f4-b147-4df6-9a4e-bf27e187e1df",
   "metadata": {},
   "outputs": [],
   "source": [
    "// Generador de numeros aleatorios siguiendo una distribucion uniforme\n",
    "int random(int l, int r) {\n",
    "    return uniform_int_distribution<int>(l, r)(rnd);\n",
    "}"
   ]
  },
  {
   "cell_type": "code",
   "execution_count": 4,
   "id": "c3ab167c-2bb5-46bc-bdab-1ca9ac02a5c4",
   "metadata": {},
   "outputs": [],
   "source": [
    "// Naive query\n",
    "int brute(int l, int r, vector<int> &a) {\n",
    "    assert(l <= r);\n",
    "    int mn = INT_MAX;\n",
    "    for (int k = l; k <= r; k++) \n",
    "        mn = min(mn, a[k]);\n",
    "    return mn;\n",
    "}"
   ]
  },
  {
   "cell_type": "markdown",
   "id": "a07f9364-af2f-4be6-98c8-1441da2b48a4",
   "metadata": {},
   "source": [
    "---"
   ]
  },
  {
   "cell_type": "markdown",
   "id": "9cbbbe37-bdbc-4834-a7bb-9eaebe7bc5d1",
   "metadata": {},
   "source": [
    "#### Sparse Table"
   ]
  },
  {
   "cell_type": "code",
   "execution_count": 5,
   "id": "2decfa9e-d35b-46fb-b3bd-637dcf477de6",
   "metadata": {},
   "outputs": [],
   "source": [
    "struct SparseTable {\n",
    "    vector<vector<int>> st;\n",
    "    SparseTable() {}\n",
    "    SparseTable(vector<int> &a) { // 0-indexed\n",
    "        int n = a.size();\n",
    "        int k = __lg(n) + 1;\n",
    "        st.resize(n, vector<int>(k));\n",
    "        // Inicializacion base del ST\n",
    "        for (int i = 0; i < n; i++) st[i][0] = a[i];\n",
    "        // Construyendo el sparse table en O(NlogN)\n",
    "        for (int p = 1, d = 1; 2 * d <= n; p++, d <<= 1) { // ST[i][p] -> min: A[i, i + 2^p - 1]\n",
    "            for (int i = 0; i + 2 * d <= n; i++) {\n",
    "                st[i][p] = min(st[i][p - 1], st[i + d][p - 1]);\n",
    "            }\n",
    "        }\n",
    "    }\n",
    "    \n",
    "    int query(int l, int r) { // O(1)\n",
    "        if (l > r) return INT_MAX; \n",
    "        int k = __lg(r - l + 1);\n",
    "        int d = (1 << k);\n",
    "        return min(st[l][k], st[r - d + 1][k]);\n",
    "    }\n",
    "};"
   ]
  },
  {
   "cell_type": "markdown",
   "id": "401c59f0-cc44-4072-9523-df2dcd92f371",
   "metadata": {},
   "source": [
    "#### Desafio 01: Generar todas las secuencias de brackets validas\n",
    "Para ello basta con ejecutar un algoritmo iterativo recorriendo cada mascara en una complejidad de $O(4^n)$, sin embargo una forma mas inteligente de hacerlo es usando un backtracking construyendolo paso a paso recorriendo solo realmente los estados que realmento nos interesa."
   ]
  },
  {
   "cell_type": "code",
   "execution_count": 6,
   "id": "d139f466-fb15-48e1-8315-61d96634cd8e",
   "metadata": {},
   "outputs": [],
   "source": [
    "void back(int i, int sa, int mask, int n) {\n",
    "    if (sa < 0 or sa > n) return;\n",
    "    if (i == 2 * n) {\n",
    "        if (sa) return;\n",
    "        // Llegamos a una secuencia valida\n",
    "        for (int i = 2 * n - 1; i >= 0; i--) {\n",
    "            int bit = (mask >> i) & 1;\n",
    "            cout << (bit ? '(' : ')');\n",
    "        }\n",
    "        cout << '\\n';\n",
    "        return;\n",
    "    }\n",
    "    back(i + 1, sa + 1, (mask << 1) | 1, n);\n",
    "    back(i + 1, sa - 1, (mask << 1) | 0, n);\n",
    "}"
   ]
  },
  {
   "cell_type": "code",
   "execution_count": 7,
   "id": "71b30fbf-9605-4e7f-906b-d89660cd43a2",
   "metadata": {},
   "outputs": [
    {
     "name": "stdout",
     "output_type": "stream",
     "text": [
      "Secuencias generadas:\n",
      "((()))\n",
      "(()())\n",
      "(())()\n",
      "()(())\n",
      "()()()\n"
     ]
    }
   ],
   "source": [
    "int n = 3;\n",
    "cout << \"Secuencias generadas:\\n\";\n",
    "back(0,0,0,n);"
   ]
  },
  {
   "cell_type": "markdown",
   "id": "ecef8a02-6af0-4e4d-b116-45bdaf29fa21",
   "metadata": {},
   "source": [
    "#### Desafio 02: Construir el Cartesian Tree a partir de un array\n"
   ]
  },
  {
   "cell_type": "code",
   "execution_count": null,
   "id": "0a6f397f-3343-4a30-a125-07ba9a4571af",
   "metadata": {},
   "outputs": [],
   "source": []
  },
  {
   "cell_type": "code",
   "execution_count": 10,
   "id": "fffa43b5-57f6-4fd3-ab08-dffc8c576c9b",
   "metadata": {},
   "outputs": [
    {
     "name": "stderr",
     "output_type": "stream",
     "text": [
      "\u001b[1minput_line_19:1:8: \u001b[0m\u001b[0;1;31merror: \u001b[0m\u001b[1mredefinition of 'CartesianTree'\u001b[0m\n",
      "struct CartesianTree {\n",
      "\u001b[0;1;32m       ^\n",
      "\u001b[0m\u001b[1minput_line_16:3:8: \u001b[0m\u001b[0;1;30mnote: \u001b[0mprevious definition is here\u001b[0m\n",
      "struct CartesianTree {\n",
      "\u001b[0;1;32m       ^\n",
      "\u001b[0m"
     ]
    },
    {
     "ename": "Interpreter Error",
     "evalue": "",
     "output_type": "error",
     "traceback": [
      "Interpreter Error: "
     ]
    }
   ],
   "source": [
    "struct CartesianTree {\n",
    "    int n;\n",
    "    int root;\n",
    "    int mask;\n",
    "    vector<int> L,R,par;  \n",
    "\n",
    "    CartesianTree(vector<int> &a) {\n",
    "        n = a.size();\n",
    "\n",
    "        L.assign(n, -1);\n",
    "        R.assign(n, -1);\n",
    "        par.assign(n, -1);\n",
    "\n",
    "        root = -1;\n",
    "        mask = 0;\n",
    "\n",
    "        build_from_array(a);\n",
    "    }\n",
    "    \n",
    "    void build_from_array(vector<int> &a) {\n",
    "        stack<int> st;\n",
    "        for (int i = 0; i < n; i++) {\n",
    "            if (st.empty()) {\n",
    "                mask = (mask << 1) | 1;\n",
    "                st.emplace(i);\n",
    "                continue;\n",
    "            }\n",
    "            int now = st.top();\n",
    "            if (a[i] > a[now]) {\n",
    "                R[now] = i;\n",
    "                par[i] = now;\n",
    "                mask = (mask << 1) | 1;\n",
    "                st.emplace(i);\n",
    "            } else {\n",
    "                int last = -1;\n",
    "                do {\n",
    "                    last = now;\n",
    "                    mask = (mask << 1) | 0;\n",
    "                    st.pop();\n",
    "                    if (st.empty()) break;\n",
    "                    now = st.top();\n",
    "                } while(a[i] < a[now]);\n",
    "\n",
    "                assert(last != -1);\n",
    "\n",
    "                if (!st.empty()) {\n",
    "                    int p = par[last];\n",
    "                    R[p] = i;\n",
    "                    par[i] = p;\n",
    "                }\n",
    "\n",
    "                L[i] = last;\n",
    "                par[last] = i;\n",
    "\n",
    "                mask = (mask << 1) | 1;\n",
    "                st.emplace(i);\n",
    "            }\n",
    "        }\n",
    "\n",
    "        while(!st.empty()) {\n",
    "            mask = (mask << 1) | 0;\n",
    "            st.pop();\n",
    "        }\n",
    "\n",
    "        for (int i = 0; i < n; i++) if (par[i] == -1) root = i;\n",
    "\n",
    "        assert(root != -1);\n",
    "    }\n",
    "\n",
    "    void dbg() {\n",
    "        cout << \"root : \" << root << endl;\n",
    "        for (int i = 0; i < n; i++) {\n",
    "            cout << i << \" : \" << L[i] << \" \" << R[i] << \" \" << par[i] << endl; \n",
    "        }\n",
    "        cout << \"mask: \" << bitset<20>(mask) << \" = \" << mask << endl;\n",
    "    }\n",
    "};\n"
   ]
  },
  {
   "cell_type": "code",
   "execution_count": null,
   "id": "29a3fd1b-9cac-4d74-8c1b-71f43b630c7a",
   "metadata": {},
   "outputs": [],
   "source": [
    "vector<int> a = {93,84,33,64,62,83,63,58};\n",
    "CartesianTree ct(a);\n",
    "ct.dbg();"
   ]
  },
  {
   "cell_type": "markdown",
   "id": "f67ca8a1-d101-4902-9401-e5f62c63d9de",
   "metadata": {},
   "source": [
    "#### Desafio 03: Construir el Cartesian Tree a partir de una mascara\n"
   ]
  },
  {
   "cell_type": "markdown",
   "id": "77f6bfdb-3537-435b-9685-242e31bc70f5",
   "metadata": {},
   "source": [
    "#### Desafio 04: Generar el LookupTable para cada patron\n"
   ]
  },
  {
   "cell_type": "markdown",
   "id": "7f479b5b-48be-4d86-b507-69c2c25fb5cf",
   "metadata": {},
   "source": [
    "#### Desafio 05: Query de Durocher RMQ O(1)\n"
   ]
  },
  {
   "cell_type": "code",
   "execution_count": null,
   "id": "484adeb4-c384-4c13-a952-f5bba589a547",
   "metadata": {},
   "outputs": [],
   "source": []
  }
 ],
 "metadata": {
  "kernelspec": {
   "display_name": "C++17",
   "language": "C++17",
   "name": "xcpp17"
  },
  "language_info": {
   "codemirror_mode": "text/x-c++src",
   "file_extension": ".cpp",
   "mimetype": "text/x-c++src",
   "name": "c++",
   "version": "17"
  }
 },
 "nbformat": 4,
 "nbformat_minor": 5
}
